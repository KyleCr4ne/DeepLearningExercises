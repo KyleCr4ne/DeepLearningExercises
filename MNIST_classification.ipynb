{
  "nbformat": 4,
  "nbformat_minor": 0,
  "metadata": {
    "colab": {
      "provenance": [],
      "gpuType": "T4"
    },
    "kernelspec": {
      "name": "python3",
      "display_name": "Python 3"
    },
    "language_info": {
      "name": "python"
    },
    "accelerator": "GPU",
    "widgets": {
      "application/vnd.jupyter.widget-state+json": {
        "4b1e34a015b34719bdc977bc4e4356f9": {
          "model_module": "@jupyter-widgets/controls",
          "model_name": "HBoxModel",
          "model_module_version": "1.5.0",
          "state": {
            "_dom_classes": [],
            "_model_module": "@jupyter-widgets/controls",
            "_model_module_version": "1.5.0",
            "_model_name": "HBoxModel",
            "_view_count": null,
            "_view_module": "@jupyter-widgets/controls",
            "_view_module_version": "1.5.0",
            "_view_name": "HBoxView",
            "box_style": "",
            "children": [
              "IPY_MODEL_fef54cde3d9a43709c2116b98879e9aa",
              "IPY_MODEL_7ace79115182476c805a6bafacc53919",
              "IPY_MODEL_1c3eeb17da784306b925a4c4ee0b8d58"
            ],
            "layout": "IPY_MODEL_7e4a0092dd524d03ae9acf0285afc9bf"
          }
        },
        "fef54cde3d9a43709c2116b98879e9aa": {
          "model_module": "@jupyter-widgets/controls",
          "model_name": "HTMLModel",
          "model_module_version": "1.5.0",
          "state": {
            "_dom_classes": [],
            "_model_module": "@jupyter-widgets/controls",
            "_model_module_version": "1.5.0",
            "_model_name": "HTMLModel",
            "_view_count": null,
            "_view_module": "@jupyter-widgets/controls",
            "_view_module_version": "1.5.0",
            "_view_name": "HTMLView",
            "description": "",
            "description_tooltip": null,
            "layout": "IPY_MODEL_d681ee1438764cfb8de08c5b5b2ae1ed",
            "placeholder": "​",
            "style": "IPY_MODEL_13ec73c6709242feba74c2a537fdafb5",
            "value": "100%"
          }
        },
        "7ace79115182476c805a6bafacc53919": {
          "model_module": "@jupyter-widgets/controls",
          "model_name": "FloatProgressModel",
          "model_module_version": "1.5.0",
          "state": {
            "_dom_classes": [],
            "_model_module": "@jupyter-widgets/controls",
            "_model_module_version": "1.5.0",
            "_model_name": "FloatProgressModel",
            "_view_count": null,
            "_view_module": "@jupyter-widgets/controls",
            "_view_module_version": "1.5.0",
            "_view_name": "ProgressView",
            "bar_style": "success",
            "description": "",
            "description_tooltip": null,
            "layout": "IPY_MODEL_43941e32a810427e846972b79b30c7eb",
            "max": 3,
            "min": 0,
            "orientation": "horizontal",
            "style": "IPY_MODEL_61ff9232419a43c580c82864e89baa61",
            "value": 3
          }
        },
        "1c3eeb17da784306b925a4c4ee0b8d58": {
          "model_module": "@jupyter-widgets/controls",
          "model_name": "HTMLModel",
          "model_module_version": "1.5.0",
          "state": {
            "_dom_classes": [],
            "_model_module": "@jupyter-widgets/controls",
            "_model_module_version": "1.5.0",
            "_model_name": "HTMLModel",
            "_view_count": null,
            "_view_module": "@jupyter-widgets/controls",
            "_view_module_version": "1.5.0",
            "_view_name": "HTMLView",
            "description": "",
            "description_tooltip": null,
            "layout": "IPY_MODEL_7a671a4a5ff7440e97b294b125a869ac",
            "placeholder": "​",
            "style": "IPY_MODEL_a37c9947e4a74953912190975d236c2b",
            "value": " 3/3 [00:54&lt;00:00, 17.57s/it]"
          }
        },
        "7e4a0092dd524d03ae9acf0285afc9bf": {
          "model_module": "@jupyter-widgets/base",
          "model_name": "LayoutModel",
          "model_module_version": "1.2.0",
          "state": {
            "_model_module": "@jupyter-widgets/base",
            "_model_module_version": "1.2.0",
            "_model_name": "LayoutModel",
            "_view_count": null,
            "_view_module": "@jupyter-widgets/base",
            "_view_module_version": "1.2.0",
            "_view_name": "LayoutView",
            "align_content": null,
            "align_items": null,
            "align_self": null,
            "border": null,
            "bottom": null,
            "display": null,
            "flex": null,
            "flex_flow": null,
            "grid_area": null,
            "grid_auto_columns": null,
            "grid_auto_flow": null,
            "grid_auto_rows": null,
            "grid_column": null,
            "grid_gap": null,
            "grid_row": null,
            "grid_template_areas": null,
            "grid_template_columns": null,
            "grid_template_rows": null,
            "height": null,
            "justify_content": null,
            "justify_items": null,
            "left": null,
            "margin": null,
            "max_height": null,
            "max_width": null,
            "min_height": null,
            "min_width": null,
            "object_fit": null,
            "object_position": null,
            "order": null,
            "overflow": null,
            "overflow_x": null,
            "overflow_y": null,
            "padding": null,
            "right": null,
            "top": null,
            "visibility": null,
            "width": null
          }
        },
        "d681ee1438764cfb8de08c5b5b2ae1ed": {
          "model_module": "@jupyter-widgets/base",
          "model_name": "LayoutModel",
          "model_module_version": "1.2.0",
          "state": {
            "_model_module": "@jupyter-widgets/base",
            "_model_module_version": "1.2.0",
            "_model_name": "LayoutModel",
            "_view_count": null,
            "_view_module": "@jupyter-widgets/base",
            "_view_module_version": "1.2.0",
            "_view_name": "LayoutView",
            "align_content": null,
            "align_items": null,
            "align_self": null,
            "border": null,
            "bottom": null,
            "display": null,
            "flex": null,
            "flex_flow": null,
            "grid_area": null,
            "grid_auto_columns": null,
            "grid_auto_flow": null,
            "grid_auto_rows": null,
            "grid_column": null,
            "grid_gap": null,
            "grid_row": null,
            "grid_template_areas": null,
            "grid_template_columns": null,
            "grid_template_rows": null,
            "height": null,
            "justify_content": null,
            "justify_items": null,
            "left": null,
            "margin": null,
            "max_height": null,
            "max_width": null,
            "min_height": null,
            "min_width": null,
            "object_fit": null,
            "object_position": null,
            "order": null,
            "overflow": null,
            "overflow_x": null,
            "overflow_y": null,
            "padding": null,
            "right": null,
            "top": null,
            "visibility": null,
            "width": null
          }
        },
        "13ec73c6709242feba74c2a537fdafb5": {
          "model_module": "@jupyter-widgets/controls",
          "model_name": "DescriptionStyleModel",
          "model_module_version": "1.5.0",
          "state": {
            "_model_module": "@jupyter-widgets/controls",
            "_model_module_version": "1.5.0",
            "_model_name": "DescriptionStyleModel",
            "_view_count": null,
            "_view_module": "@jupyter-widgets/base",
            "_view_module_version": "1.2.0",
            "_view_name": "StyleView",
            "description_width": ""
          }
        },
        "43941e32a810427e846972b79b30c7eb": {
          "model_module": "@jupyter-widgets/base",
          "model_name": "LayoutModel",
          "model_module_version": "1.2.0",
          "state": {
            "_model_module": "@jupyter-widgets/base",
            "_model_module_version": "1.2.0",
            "_model_name": "LayoutModel",
            "_view_count": null,
            "_view_module": "@jupyter-widgets/base",
            "_view_module_version": "1.2.0",
            "_view_name": "LayoutView",
            "align_content": null,
            "align_items": null,
            "align_self": null,
            "border": null,
            "bottom": null,
            "display": null,
            "flex": null,
            "flex_flow": null,
            "grid_area": null,
            "grid_auto_columns": null,
            "grid_auto_flow": null,
            "grid_auto_rows": null,
            "grid_column": null,
            "grid_gap": null,
            "grid_row": null,
            "grid_template_areas": null,
            "grid_template_columns": null,
            "grid_template_rows": null,
            "height": null,
            "justify_content": null,
            "justify_items": null,
            "left": null,
            "margin": null,
            "max_height": null,
            "max_width": null,
            "min_height": null,
            "min_width": null,
            "object_fit": null,
            "object_position": null,
            "order": null,
            "overflow": null,
            "overflow_x": null,
            "overflow_y": null,
            "padding": null,
            "right": null,
            "top": null,
            "visibility": null,
            "width": null
          }
        },
        "61ff9232419a43c580c82864e89baa61": {
          "model_module": "@jupyter-widgets/controls",
          "model_name": "ProgressStyleModel",
          "model_module_version": "1.5.0",
          "state": {
            "_model_module": "@jupyter-widgets/controls",
            "_model_module_version": "1.5.0",
            "_model_name": "ProgressStyleModel",
            "_view_count": null,
            "_view_module": "@jupyter-widgets/base",
            "_view_module_version": "1.2.0",
            "_view_name": "StyleView",
            "bar_color": null,
            "description_width": ""
          }
        },
        "7a671a4a5ff7440e97b294b125a869ac": {
          "model_module": "@jupyter-widgets/base",
          "model_name": "LayoutModel",
          "model_module_version": "1.2.0",
          "state": {
            "_model_module": "@jupyter-widgets/base",
            "_model_module_version": "1.2.0",
            "_model_name": "LayoutModel",
            "_view_count": null,
            "_view_module": "@jupyter-widgets/base",
            "_view_module_version": "1.2.0",
            "_view_name": "LayoutView",
            "align_content": null,
            "align_items": null,
            "align_self": null,
            "border": null,
            "bottom": null,
            "display": null,
            "flex": null,
            "flex_flow": null,
            "grid_area": null,
            "grid_auto_columns": null,
            "grid_auto_flow": null,
            "grid_auto_rows": null,
            "grid_column": null,
            "grid_gap": null,
            "grid_row": null,
            "grid_template_areas": null,
            "grid_template_columns": null,
            "grid_template_rows": null,
            "height": null,
            "justify_content": null,
            "justify_items": null,
            "left": null,
            "margin": null,
            "max_height": null,
            "max_width": null,
            "min_height": null,
            "min_width": null,
            "object_fit": null,
            "object_position": null,
            "order": null,
            "overflow": null,
            "overflow_x": null,
            "overflow_y": null,
            "padding": null,
            "right": null,
            "top": null,
            "visibility": null,
            "width": null
          }
        },
        "a37c9947e4a74953912190975d236c2b": {
          "model_module": "@jupyter-widgets/controls",
          "model_name": "DescriptionStyleModel",
          "model_module_version": "1.5.0",
          "state": {
            "_model_module": "@jupyter-widgets/controls",
            "_model_module_version": "1.5.0",
            "_model_name": "DescriptionStyleModel",
            "_view_count": null,
            "_view_module": "@jupyter-widgets/base",
            "_view_module_version": "1.2.0",
            "_view_name": "StyleView",
            "description_width": ""
          }
        }
      }
    }
  },
  "cells": [
    {
      "cell_type": "code",
      "execution_count": 1,
      "metadata": {
        "id": "mEoOvQ_jAfvg"
      },
      "outputs": [],
      "source": [
        "import numpy as np\n",
        "from tqdm.notebook import tqdm\n",
        "import matplotlib.pyplot as plt\n",
        "%matplotlib inline\n",
        "\n",
        "import torch\n",
        "import torch.nn as nn\n",
        "from torchvision import datasets, transforms"
      ]
    },
    {
      "cell_type": "code",
      "source": [
        "train_data = datasets.MNIST(root=\"./mnist_data\", train=True, download=True, transform=transforms.ToTensor())\n",
        "test_data = datasets.MNIST(root=\"./mnist_data\", train=False, download=True, transform=transforms.ToTensor())"
      ],
      "metadata": {
        "id": "dMSUNErJBA3O"
      },
      "execution_count": null,
      "outputs": []
    },
    {
      "cell_type": "code",
      "source": [
        "train_data, test_data"
      ],
      "metadata": {
        "colab": {
          "base_uri": "https://localhost:8080/"
        },
        "id": "7RQeAB8YBKeJ",
        "outputId": "a9bed5f6-2afb-4148-89bc-be69e9308d00"
      },
      "execution_count": 4,
      "outputs": [
        {
          "output_type": "execute_result",
          "data": {
            "text/plain": [
              "(Dataset MNIST\n",
              "     Number of datapoints: 60000\n",
              "     Root location: ./mnist_data\n",
              "     Split: Train\n",
              "     StandardTransform\n",
              " Transform: ToTensor(),\n",
              " Dataset MNIST\n",
              "     Number of datapoints: 10000\n",
              "     Root location: ./mnist_data\n",
              "     Split: Test\n",
              "     StandardTransform\n",
              " Transform: ToTensor())"
            ]
          },
          "metadata": {},
          "execution_count": 4
        }
      ]
    },
    {
      "cell_type": "markdown",
      "source": [
        "Разобьем данные на батчи с помощью модуля DataLoader:"
      ],
      "metadata": {
        "id": "jTvGIAqVBWJO"
      }
    },
    {
      "cell_type": "code",
      "source": [
        "train_size = int(len(train_data) * 0.8)\n",
        "val_size = len(train_data) - train_size\n",
        "train_data, val_data = torch.utils.data.random_split(train_data, [train_size, val_size])\n",
        "\n",
        "train_loader = torch.utils.data.DataLoader(train_data, batch_size=64, shuffle=True)\n",
        "val_loader = torch.utils.data.DataLoader(train_data, batch_size=64, shuffle=False)\n",
        "test_loader = torch.utils.data.DataLoader(test_data, batch_size=64, shuffle=False)"
      ],
      "metadata": {
        "id": "Q1pU3hs3BN_H"
      },
      "execution_count": 19,
      "outputs": []
    },
    {
      "cell_type": "code",
      "source": [
        "class SimpleNet(nn.Module):\n",
        "  def __init__(self):\n",
        "    super(SimpleNet, self).__init__()\n",
        "\n",
        "    self.flatten = nn.Flatten()\n",
        "    self.fc_in = nn.Linear(28*28, 256)\n",
        "    self.fc_relu = nn.ReLU()\n",
        "    self.fc_out = nn.Linear(256, 10)\n",
        "\n",
        "  def forward(self, x):\n",
        "    # преобразование квадратной матрицы (ч/б пиксей картинки) в одномерный вектор\n",
        "    x = self.flatten(x)\n",
        "\n",
        "    x = self.fc_in(x)\n",
        "    x = self.fc_relu(x)\n",
        "    x = self.fc_out(x)\n",
        "\n",
        "    return x\n"
      ],
      "metadata": {
        "id": "FOP6xW-aBf4l"
      },
      "execution_count": 13,
      "outputs": []
    },
    {
      "cell_type": "code",
      "source": [
        "device = 'cuda' if torch.cuda.is_available() else 'cpu'\n",
        "device"
      ],
      "metadata": {
        "colab": {
          "base_uri": "https://localhost:8080/",
          "height": 35
        },
        "id": "HZ7lFrIECl5a",
        "outputId": "8dbf536d-b3bb-4951-ed50-88812109baad"
      },
      "execution_count": 7,
      "outputs": [
        {
          "output_type": "execute_result",
          "data": {
            "text/plain": [
              "'cuda'"
            ],
            "application/vnd.google.colaboratory.intrinsic+json": {
              "type": "string"
            }
          },
          "metadata": {},
          "execution_count": 7
        }
      ]
    },
    {
      "cell_type": "code",
      "source": [
        "model = SimpleNet().to(device)"
      ],
      "metadata": {
        "id": "qp4-YX8jCuO0"
      },
      "execution_count": 14,
      "outputs": []
    },
    {
      "cell_type": "code",
      "source": [
        "criterion = nn.CrossEntropyLoss()\n",
        "optimizer = torch.optim.Adam(model.parameters(), lr=1e-3)"
      ],
      "metadata": {
        "id": "Yskio9dhC1xj"
      },
      "execution_count": 17,
      "outputs": []
    },
    {
      "cell_type": "code",
      "source": [
        "from sklearn.metrics import accuracy_score\n",
        "\n",
        "# Функция высчитывает качество модели на тестовой выборке:\n",
        "\n",
        "def evaluate(model, dataloader, criterion):\n",
        "  y_pred_list = []\n",
        "  y_true_list = []\n",
        "  losses = []\n",
        "  for i, batch in enumerate(dataloader):\n",
        "    X_batch, y_batch = batch\n",
        "\n",
        "    with torch.no_grad():\n",
        "\n",
        "      y_pred = model(X_batch.to(device))\n",
        "\n",
        "      loss = criterion(y_pred, y_batch.to(device))\n",
        "      loss = loss.item()\n",
        "      losses.append(loss)\n",
        "\n",
        "      y_pred = torch.argmax(y_pred, dim=1)\n",
        "\n",
        "    y_pred_list.extend(y_pred.cpu().numpy())\n",
        "    y_true_list.extend(y_batch.numpy())\n",
        "  acc = accuracy_score(y_pred_list, y_true_list)\n",
        "  return acc, np.mean(losses)\n"
      ],
      "metadata": {
        "id": "ogBKGcIhDhXq"
      },
      "execution_count": 24,
      "outputs": []
    },
    {
      "cell_type": "code",
      "source": [
        "def train(model, criterion, optimizer, n_epoch):\n",
        "  data = {\n",
        "      'acc_train' : [],\n",
        "      'loss_train' : [],\n",
        "      'acc_val' : [],\n",
        "      'loss_val' : []\n",
        "  }\n",
        "  for epoch in tqdm(range(n_epoch)):\n",
        "    for i, batch in enumerate(train_loader):\n",
        "      X_batch, y_batch = batch\n",
        "      y_pred = model(X_batch.to(device))\n",
        "      loss = criterion(y_pred, y_batch.to(device))\n",
        "\n",
        "      optimizer.zero_grad()\n",
        "      loss.backward()\n",
        "      optimizer.step()\n",
        "\n",
        "    acc_train, loss_train = evaluate(model, train_loader, criterion)\n",
        "    acc_val, loss_val = evaluate(model, val_loader, criterion)\n",
        "\n",
        "    data['acc_train'].append(acc_train)\n",
        "    data['loss_train'].append(loss_train)\n",
        "    data['acc_val'].append(acc_val)\n",
        "    data['loss_val'].append(loss_val)\n",
        "  return model, data"
      ],
      "metadata": {
        "id": "Y1k91o8TGg75"
      },
      "execution_count": 20,
      "outputs": []
    },
    {
      "cell_type": "code",
      "source": [
        "model, data = train(model, criterion, optimizer, n_epoch=3)"
      ],
      "metadata": {
        "colab": {
          "base_uri": "https://localhost:8080/",
          "height": 49,
          "referenced_widgets": [
            "4b1e34a015b34719bdc977bc4e4356f9",
            "fef54cde3d9a43709c2116b98879e9aa",
            "7ace79115182476c805a6bafacc53919",
            "1c3eeb17da784306b925a4c4ee0b8d58",
            "7e4a0092dd524d03ae9acf0285afc9bf",
            "d681ee1438764cfb8de08c5b5b2ae1ed",
            "13ec73c6709242feba74c2a537fdafb5",
            "43941e32a810427e846972b79b30c7eb",
            "61ff9232419a43c580c82864e89baa61",
            "7a671a4a5ff7440e97b294b125a869ac",
            "a37c9947e4a74953912190975d236c2b"
          ]
        },
        "id": "dw-1RuLDIZLG",
        "outputId": "63d78bb8-0041-4582-faa0-b41573eb83d8"
      },
      "execution_count": 25,
      "outputs": [
        {
          "output_type": "display_data",
          "data": {
            "text/plain": [
              "  0%|          | 0/3 [00:00<?, ?it/s]"
            ],
            "application/vnd.jupyter.widget-view+json": {
              "version_major": 2,
              "version_minor": 0,
              "model_id": "4b1e34a015b34719bdc977bc4e4356f9"
            }
          },
          "metadata": {}
        }
      ]
    },
    {
      "cell_type": "code",
      "source": [
        "_, axes = plt.subplots(nrows=2, ncols=2, figsize=(10, 10))\n",
        "\n",
        "ox = list(range(3))\n",
        "\n",
        "axes[0][0].plot(ox, data['acc_train'])\n",
        "axes[0][0].title.set_text('acc_train')\n",
        "\n",
        "axes[0][1].plot(ox, data['acc_val'])\n",
        "axes[0][1].title.set_text('acc_val')\n",
        "\n",
        "axes[1][0].plot(ox, data['loss_train'])\n",
        "axes[1][0].title.set_text('loss_train')\n",
        "\n",
        "axes[1][1].plot(ox, data['loss_val'])\n",
        "axes[1][1].title.set_text('loss_val')\n",
        "\n",
        "plt.show()"
      ],
      "metadata": {
        "colab": {
          "base_uri": "https://localhost:8080/",
          "height": 853
        },
        "id": "CJj-5DI9Ig9v",
        "outputId": "9c1bd62a-e345-44d0-f760-665cdaadb657"
      },
      "execution_count": 26,
      "outputs": [
        {
          "output_type": "display_data",
          "data": {
            "text/plain": [
              "<Figure size 1000x1000 with 4 Axes>"
            ],
            "image/png": "[encoded data removed]"
          },
          "metadata": {}
        }
      ]
    }
  ]
}