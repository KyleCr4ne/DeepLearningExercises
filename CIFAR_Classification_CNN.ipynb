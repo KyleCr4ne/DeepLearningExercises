{
  "nbformat": 4,
  "nbformat_minor": 0,
  "metadata": {
    "colab": {
      "provenance": [],
      "gpuType": "T4"
    },
    "kernelspec": {
      "name": "python3",
      "display_name": "Python 3"
    },
    "language_info": {
      "name": "python"
    },
    "accelerator": "GPU",
    "widgets": {
      "application/vnd.jupyter.widget-state+json": {
        "13ee52ae4d7f442489ed06bff81a4e95": {
          "model_module": "@jupyter-widgets/controls",
          "model_name": "HBoxModel",
          "model_module_version": "1.5.0",
          "state": {
            "_dom_classes": [],
            "_model_module": "@jupyter-widgets/controls",
            "_model_module_version": "1.5.0",
            "_model_name": "HBoxModel",
            "_view_count": null,
            "_view_module": "@jupyter-widgets/controls",
            "_view_module_version": "1.5.0",
            "_view_name": "HBoxView",
            "box_style": "",
            "children": [
              "IPY_MODEL_907ee093fef54fb691e3c44c06ab1ace",
              "IPY_MODEL_3f7d3070a4964b1bb3a4b825008dfdbd",
              "IPY_MODEL_16f39a5339ab411d8661b8646bac1762"
            ],
            "layout": "IPY_MODEL_9fed30b5b18e42bcb46db5193a9f689b"
          }
        },
        "907ee093fef54fb691e3c44c06ab1ace": {
          "model_module": "@jupyter-widgets/controls",
          "model_name": "HTMLModel",
          "model_module_version": "1.5.0",
          "state": {
            "_dom_classes": [],
            "_model_module": "@jupyter-widgets/controls",
            "_model_module_version": "1.5.0",
            "_model_name": "HTMLModel",
            "_view_count": null,
            "_view_module": "@jupyter-widgets/controls",
            "_view_module_version": "1.5.0",
            "_view_name": "HTMLView",
            "description": "",
            "description_tooltip": null,
            "layout": "IPY_MODEL_0f14ab9084a74972917fbb3ca53b0e51",
            "placeholder": "​",
            "style": "IPY_MODEL_da989a9062a142fc9a7083d91914b7e1",
            "value": "100%"
          }
        },
        "3f7d3070a4964b1bb3a4b825008dfdbd": {
          "model_module": "@jupyter-widgets/controls",
          "model_name": "FloatProgressModel",
          "model_module_version": "1.5.0",
          "state": {
            "_dom_classes": [],
            "_model_module": "@jupyter-widgets/controls",
            "_model_module_version": "1.5.0",
            "_model_name": "FloatProgressModel",
            "_view_count": null,
            "_view_module": "@jupyter-widgets/controls",
            "_view_module_version": "1.5.0",
            "_view_name": "ProgressView",
            "bar_style": "success",
            "description": "",
            "description_tooltip": null,
            "layout": "IPY_MODEL_8e0436822ee74bd7a3e97cec737004c1",
            "max": 10,
            "min": 0,
            "orientation": "horizontal",
            "style": "IPY_MODEL_daa12e4dcf2b4d6c9bfa19c5e261450a",
            "value": 10
          }
        },
        "16f39a5339ab411d8661b8646bac1762": {
          "model_module": "@jupyter-widgets/controls",
          "model_name": "HTMLModel",
          "model_module_version": "1.5.0",
          "state": {
            "_dom_classes": [],
            "_model_module": "@jupyter-widgets/controls",
            "_model_module_version": "1.5.0",
            "_model_name": "HTMLModel",
            "_view_count": null,
            "_view_module": "@jupyter-widgets/controls",
            "_view_module_version": "1.5.0",
            "_view_name": "HTMLView",
            "description": "",
            "description_tooltip": null,
            "layout": "IPY_MODEL_8c05c5a5ad10413f9c544bf02459d692",
            "placeholder": "​",
            "style": "IPY_MODEL_908b8251137d45219d6540f68f62bf29",
            "value": " 10/10 [02:46&lt;00:00, 16.11s/it]"
          }
        },
        "9fed30b5b18e42bcb46db5193a9f689b": {
          "model_module": "@jupyter-widgets/base",
          "model_name": "LayoutModel",
          "model_module_version": "1.2.0",
          "state": {
            "_model_module": "@jupyter-widgets/base",
            "_model_module_version": "1.2.0",
            "_model_name": "LayoutModel",
            "_view_count": null,
            "_view_module": "@jupyter-widgets/base",
            "_view_module_version": "1.2.0",
            "_view_name": "LayoutView",
            "align_content": null,
            "align_items": null,
            "align_self": null,
            "border": null,
            "bottom": null,
            "display": null,
            "flex": null,
            "flex_flow": null,
            "grid_area": null,
            "grid_auto_columns": null,
            "grid_auto_flow": null,
            "grid_auto_rows": null,
            "grid_column": null,
            "grid_gap": null,
            "grid_row": null,
            "grid_template_areas": null,
            "grid_template_columns": null,
            "grid_template_rows": null,
            "height": null,
            "justify_content": null,
            "justify_items": null,
            "left": null,
            "margin": null,
            "max_height": null,
            "max_width": null,
            "min_height": null,
            "min_width": null,
            "object_fit": null,
            "object_position": null,
            "order": null,
            "overflow": null,
            "overflow_x": null,
            "overflow_y": null,
            "padding": null,
            "right": null,
            "top": null,
            "visibility": null,
            "width": null
          }
        },
        "0f14ab9084a74972917fbb3ca53b0e51": {
          "model_module": "@jupyter-widgets/base",
          "model_name": "LayoutModel",
          "model_module_version": "1.2.0",
          "state": {
            "_model_module": "@jupyter-widgets/base",
            "_model_module_version": "1.2.0",
            "_model_name": "LayoutModel",
            "_view_count": null,
            "_view_module": "@jupyter-widgets/base",
            "_view_module_version": "1.2.0",
            "_view_name": "LayoutView",
            "align_content": null,
            "align_items": null,
            "align_self": null,
            "border": null,
            "bottom": null,
            "display": null,
            "flex": null,
            "flex_flow": null,
            "grid_area": null,
            "grid_auto_columns": null,
            "grid_auto_flow": null,
            "grid_auto_rows": null,
            "grid_column": null,
            "grid_gap": null,
            "grid_row": null,
            "grid_template_areas": null,
            "grid_template_columns": null,
            "grid_template_rows": null,
            "height": null,
            "justify_content": null,
            "justify_items": null,
            "left": null,
            "margin": null,
            "max_height": null,
            "max_width": null,
            "min_height": null,
            "min_width": null,
            "object_fit": null,
            "object_position": null,
            "order": null,
            "overflow": null,
            "overflow_x": null,
            "overflow_y": null,
            "padding": null,
            "right": null,
            "top": null,
            "visibility": null,
            "width": null
          }
        },
        "da989a9062a142fc9a7083d91914b7e1": {
          "model_module": "@jupyter-widgets/controls",
          "model_name": "DescriptionStyleModel",
          "model_module_version": "1.5.0",
          "state": {
            "_model_module": "@jupyter-widgets/controls",
            "_model_module_version": "1.5.0",
            "_model_name": "DescriptionStyleModel",
            "_view_count": null,
            "_view_module": "@jupyter-widgets/base",
            "_view_module_version": "1.2.0",
            "_view_name": "StyleView",
            "description_width": ""
          }
        },
        "8e0436822ee74bd7a3e97cec737004c1": {
          "model_module": "@jupyter-widgets/base",
          "model_name": "LayoutModel",
          "model_module_version": "1.2.0",
          "state": {
            "_model_module": "@jupyter-widgets/base",
            "_model_module_version": "1.2.0",
            "_model_name": "LayoutModel",
            "_view_count": null,
            "_view_module": "@jupyter-widgets/base",
            "_view_module_version": "1.2.0",
            "_view_name": "LayoutView",
            "align_content": null,
            "align_items": null,
            "align_self": null,
            "border": null,
            "bottom": null,
            "display": null,
            "flex": null,
            "flex_flow": null,
            "grid_area": null,
            "grid_auto_columns": null,
            "grid_auto_flow": null,
            "grid_auto_rows": null,
            "grid_column": null,
            "grid_gap": null,
            "grid_row": null,
            "grid_template_areas": null,
            "grid_template_columns": null,
            "grid_template_rows": null,
            "height": null,
            "justify_content": null,
            "justify_items": null,
            "left": null,
            "margin": null,
            "max_height": null,
            "max_width": null,
            "min_height": null,
            "min_width": null,
            "object_fit": null,
            "object_position": null,
            "order": null,
            "overflow": null,
            "overflow_x": null,
            "overflow_y": null,
            "padding": null,
            "right": null,
            "top": null,
            "visibility": null,
            "width": null
          }
        },
        "daa12e4dcf2b4d6c9bfa19c5e261450a": {
          "model_module": "@jupyter-widgets/controls",
          "model_name": "ProgressStyleModel",
          "model_module_version": "1.5.0",
          "state": {
            "_model_module": "@jupyter-widgets/controls",
            "_model_module_version": "1.5.0",
            "_model_name": "ProgressStyleModel",
            "_view_count": null,
            "_view_module": "@jupyter-widgets/base",
            "_view_module_version": "1.2.0",
            "_view_name": "StyleView",
            "bar_color": null,
            "description_width": ""
          }
        },
        "8c05c5a5ad10413f9c544bf02459d692": {
          "model_module": "@jupyter-widgets/base",
          "model_name": "LayoutModel",
          "model_module_version": "1.2.0",
          "state": {
            "_model_module": "@jupyter-widgets/base",
            "_model_module_version": "1.2.0",
            "_model_name": "LayoutModel",
            "_view_count": null,
            "_view_module": "@jupyter-widgets/base",
            "_view_module_version": "1.2.0",
            "_view_name": "LayoutView",
            "align_content": null,
            "align_items": null,
            "align_self": null,
            "border": null,
            "bottom": null,
            "display": null,
            "flex": null,
            "flex_flow": null,
            "grid_area": null,
            "grid_auto_columns": null,
            "grid_auto_flow": null,
            "grid_auto_rows": null,
            "grid_column": null,
            "grid_gap": null,
            "grid_row": null,
            "grid_template_areas": null,
            "grid_template_columns": null,
            "grid_template_rows": null,
            "height": null,
            "justify_content": null,
            "justify_items": null,
            "left": null,
            "margin": null,
            "max_height": null,
            "max_width": null,
            "min_height": null,
            "min_width": null,
            "object_fit": null,
            "object_position": null,
            "order": null,
            "overflow": null,
            "overflow_x": null,
            "overflow_y": null,
            "padding": null,
            "right": null,
            "top": null,
            "visibility": null,
            "width": null
          }
        },
        "908b8251137d45219d6540f68f62bf29": {
          "model_module": "@jupyter-widgets/controls",
          "model_name": "DescriptionStyleModel",
          "model_module_version": "1.5.0",
          "state": {
            "_model_module": "@jupyter-widgets/controls",
            "_model_module_version": "1.5.0",
            "_model_name": "DescriptionStyleModel",
            "_view_count": null,
            "_view_module": "@jupyter-widgets/base",
            "_view_module_version": "1.2.0",
            "_view_name": "StyleView",
            "description_width": ""
          }
        }
      }
    }
  },
  "cells": [
    {
      "cell_type": "code",
      "execution_count": 5,
      "metadata": {
        "id": "Y2KMAita_FE2"
      },
      "outputs": [],
      "source": [
        "import numpy as np\n",
        "from tqdm.notebook import tqdm\n",
        "import matplotlib.pyplot as plt\n",
        "%matplotlib inline\n",
        "\n",
        "import torch\n",
        "import torch.nn as nn\n",
        "from torchvision import datasets, transforms\n",
        "from torch.nn.modules.batchnorm import BatchNorm1d\n",
        "import torch.nn.functional as F"
      ]
    },
    {
      "cell_type": "code",
      "source": [
        "train_data = datasets.CIFAR10(root=\"./cifar10_data\", train=True, download=True, transform=transforms.ToTensor())\n",
        "test_data = datasets.CIFAR10(root=\"./cifar10_data\", train=False, download=True, transform=transforms.ToTensor())\n",
        "\n",
        "train_size = int(len(train_data) * 0.8)\n",
        "val_size = len(train_data) - train_size\n",
        "\n",
        "train_data, val_data = torch.utils.data.random_split(train_data, [train_size, val_size])\n",
        "\n",
        "train_loader = torch.utils.data.DataLoader(train_data, batch_size=64, shuffle=True)\n",
        "val_loader = torch.utils.data.DataLoader(val_data, batch_size=64, shuffle=True)\n",
        "test_loader = torch.utils.data.DataLoader(test_data, batch_size=64, shuffle=True)"
      ],
      "metadata": {
        "colab": {
          "base_uri": "https://localhost:8080/"
        },
        "id": "9x71eSO8B9NV",
        "outputId": "d5ead92e-027e-4109-b428-892b3892c669"
      },
      "execution_count": 2,
      "outputs": [
        {
          "output_type": "stream",
          "name": "stdout",
          "text": [
            "Downloading https://www.cs.toronto.edu/~kriz/cifar-10-python.tar.gz to ./cifar10_data/cifar-10-python.tar.gz\n"
          ]
        },
        {
          "output_type": "stream",
          "name": "stderr",
          "text": [
            "100%|██████████| 170498071/170498071 [00:02<00:00, 66454989.01it/s]\n"
          ]
        },
        {
          "output_type": "stream",
          "name": "stdout",
          "text": [
            "Extracting ./cifar10_data/cifar-10-python.tar.gz to ./cifar10_data\n",
            "Files already downloaded and verified\n"
          ]
        }
      ]
    },
    {
      "cell_type": "code",
      "source": [
        "for batch in train_loader:\n",
        "  batch_images, batch_labels = batch\n",
        "  break\n",
        "batch_images.shape"
      ],
      "metadata": {
        "colab": {
          "base_uri": "https://localhost:8080/"
        },
        "id": "6Ru9Mi7SCAd4",
        "outputId": "4dde6cdf-39f1-47d3-a314-5d2da5790517"
      },
      "execution_count": 3,
      "outputs": [
        {
          "output_type": "execute_result",
          "data": {
            "text/plain": [
              "torch.Size([64, 3, 32, 32])"
            ]
          },
          "metadata": {},
          "execution_count": 3
        }
      ]
    },
    {
      "cell_type": "code",
      "source": [
        "class CNN(nn.Module):\n",
        "  def __init__(self):\n",
        "    super(CNN, self).__init__()\n",
        "\n",
        "    self.conv1 = nn.Conv2d(in_channels=3, out_channels=12, kernel_size=(3, 3), padding=1) # 32x32x12 # padding=1 добавляет с двух сторон нулевые вектора, сохраняя ихсодный размер\n",
        "    self.pool1 = nn.MaxPool2d(kernel_size=(2,2)) # 16x16x12\n",
        "\n",
        "    self.conv2 = nn.Conv2d(in_channels=12, out_channels=24, kernel_size=(3, 3), padding=1) # 16x16x24\n",
        "    self.pool2 = nn.MaxPool2d(kernel_size = (2,2)) # 8x8x24\n",
        "\n",
        "    self.conv3 = nn.Conv2d(in_channels=24, out_channels=48, kernel_size=(3,3), padding=1) # 8x8x48\n",
        "    self.pool3 = nn.MaxPool2d(kernel_size=(2,2)) # 4x4x48\n",
        "\n",
        "    self.flatten = nn.Flatten()\n",
        "\n",
        "    self.fc1 = nn.Linear(4 * 4 * 48, 512)\n",
        "    self.bn1 = BatchNorm1d(512)\n",
        "\n",
        "    self.fc2 = nn.Linear(512, 256)\n",
        "    self.bn2 = BatchNorm1d(256)\n",
        "\n",
        "    self.fc_out = nn.Linear(256, 10)\n",
        "\n",
        "  def forward(self, x):\n",
        "    x = F.relu(self.conv1(x))\n",
        "    x = self.pool1(x)\n",
        "    x = F.relu(self.conv2(x))\n",
        "    x = self.pool2(x)\n",
        "    x = F.relu(self.conv3(x))\n",
        "    x = self.pool3(x)\n",
        "\n",
        "    x = self.flatten(x)\n",
        "\n",
        "    x = F.relu(self.fc1(x))\n",
        "    x = self.bn1(x)\n",
        "\n",
        "    x = F.relu(self.fc2(x))\n",
        "    x = self.bn2(x)\n",
        "\n",
        "    return self.fc_out(x)\n",
        "\n"
      ],
      "metadata": {
        "id": "yVEegwZeCDrT"
      },
      "execution_count": 6,
      "outputs": []
    },
    {
      "cell_type": "code",
      "source": [
        "device = torch.device(\"cuda\" if torch.cuda.is_available() else \"cpu\")\n",
        "device"
      ],
      "metadata": {
        "colab": {
          "base_uri": "https://localhost:8080/"
        },
        "id": "0kdHRp8rCNd8",
        "outputId": "e752664c-e499-463f-f733-853c92014213"
      },
      "execution_count": 8,
      "outputs": [
        {
          "output_type": "execute_result",
          "data": {
            "text/plain": [
              "device(type='cuda')"
            ]
          },
          "metadata": {},
          "execution_count": 8
        }
      ]
    },
    {
      "cell_type": "code",
      "source": [
        "model = CNN().to(device)"
      ],
      "metadata": {
        "id": "e771oftpCdJC"
      },
      "execution_count": 9,
      "outputs": []
    },
    {
      "cell_type": "code",
      "source": [
        "from sklearn.metrics import accuracy_score\n",
        "\n",
        "\n",
        "def evaluate(model, dataloader, criterion):\n",
        "  y_pred_list = []\n",
        "  y_true_list = []\n",
        "  losses = []\n",
        "  for i, batch in enumerate(dataloader):\n",
        "    X_batch, y_batch = batch\n",
        "\n",
        "    with torch.no_grad():\n",
        "\n",
        "      y_pred = model(X_batch.to(device))\n",
        "\n",
        "      loss = criterion(y_pred, y_batch.to(device))\n",
        "      loss = loss.item()\n",
        "      losses.append(loss)\n",
        "\n",
        "      y_pred = torch.argmax(y_pred, dim=1)\n",
        "\n",
        "    y_pred_list.extend(y_pred.cpu().numpy())\n",
        "    y_true_list.extend(y_batch.numpy())\n",
        "  acc = accuracy_score(y_pred_list, y_true_list)\n",
        "  return acc, np.mean(losses)"
      ],
      "metadata": {
        "id": "8sKyVXQTChBD"
      },
      "execution_count": 10,
      "outputs": []
    },
    {
      "cell_type": "code",
      "source": [
        "def train(model, criterion, optimizer, n_epoch):\n",
        "  data = {\n",
        "      'acc_train' : [],\n",
        "      'loss_train' : [],\n",
        "      'acc_val' : [],\n",
        "      'loss_val' : []\n",
        "  }\n",
        "  for epoch in tqdm(range(n_epoch)):\n",
        "    for i, batch in enumerate(train_loader):\n",
        "      X_batch, y_batch = batch\n",
        "      y_pred = model(X_batch.to(device))\n",
        "      loss = criterion(y_pred, y_batch.to(device))\n",
        "\n",
        "      optimizer.zero_grad()\n",
        "      loss.backward()\n",
        "      optimizer.step()\n",
        "\n",
        "    acc_train, loss_train = evaluate(model, train_loader, criterion)\n",
        "    acc_val, loss_val = evaluate(model, val_loader, criterion)\n",
        "\n",
        "    data['acc_train'].append(acc_train)\n",
        "    data['loss_train'].append(loss_train)\n",
        "    data['acc_val'].append(acc_val)\n",
        "    data['loss_val'].append(loss_val)\n",
        "  return model, data"
      ],
      "metadata": {
        "id": "YxhECKmwCidN"
      },
      "execution_count": 11,
      "outputs": []
    },
    {
      "cell_type": "code",
      "source": [
        "criterion = nn.CrossEntropyLoss()\n",
        "optimizer = torch.optim.Adam(model.parameters(), lr=1e-3)\n",
        "\n",
        "model, data = train(model, criterion, optimizer, n_epoch=10)"
      ],
      "metadata": {
        "colab": {
          "base_uri": "https://localhost:8080/",
          "height": 49,
          "referenced_widgets": [
            "13ee52ae4d7f442489ed06bff81a4e95",
            "907ee093fef54fb691e3c44c06ab1ace",
            "3f7d3070a4964b1bb3a4b825008dfdbd",
            "16f39a5339ab411d8661b8646bac1762",
            "9fed30b5b18e42bcb46db5193a9f689b",
            "0f14ab9084a74972917fbb3ca53b0e51",
            "da989a9062a142fc9a7083d91914b7e1",
            "8e0436822ee74bd7a3e97cec737004c1",
            "daa12e4dcf2b4d6c9bfa19c5e261450a",
            "8c05c5a5ad10413f9c544bf02459d692",
            "908b8251137d45219d6540f68f62bf29"
          ]
        },
        "id": "_O8n9vvxCkly",
        "outputId": "e5d8c062-38d8-41e4-e0aa-acc36a3ec405"
      },
      "execution_count": 12,
      "outputs": [
        {
          "output_type": "display_data",
          "data": {
            "text/plain": [
              "  0%|          | 0/10 [00:00<?, ?it/s]"
            ],
            "application/vnd.jupyter.widget-view+json": {
              "version_major": 2,
              "version_minor": 0,
              "model_id": "13ee52ae4d7f442489ed06bff81a4e95"
            }
          },
          "metadata": {}
        }
      ]
    },
    {
      "cell_type": "code",
      "source": [
        "_, axes = plt.subplots(nrows=2, ncols=2, figsize=(10, 10))\n",
        "\n",
        "ox = list(range(10))\n",
        "\n",
        "axes[0][0].plot(ox, data['acc_train'])\n",
        "axes[0][0].title.set_text('acc_train')\n",
        "\n",
        "axes[0][1].plot(ox, data['acc_val'])\n",
        "axes[0][1].title.set_text('acc_val')\n",
        "\n",
        "axes[1][0].plot(ox, data['loss_train'])\n",
        "axes[1][0].title.set_text('loss_train')\n",
        "\n",
        "axes[1][1].plot(ox, data['loss_val'])\n",
        "axes[1][1].title.set_text('loss_val')\n",
        "\n",
        "plt.show()"
      ],
      "metadata": {
        "colab": {
          "base_uri": "https://localhost:8080/",
          "height": 853
        },
        "id": "k2t6NtV-CnBe",
        "outputId": "839e622f-afec-43e4-d672-c1e3d57cb5af"
      },
      "execution_count": 13,
      "outputs": [
        {
          "output_type": "display_data",
          "data": {
            "text/plain": [
              "<Figure size 1000x1000 with 4 Axes>"
            ],
            "image/png": "[encoded data removed]"
          },
          "metadata": {}
        }
      ]
    },
    {
      "cell_type": "code",
      "source": [
        "acc_val, _ = evaluate(model, test_loader, criterion)\n",
        "acc_val"
      ],
      "metadata": {
        "colab": {
          "base_uri": "https://localhost:8080/"
        },
        "id": "YI-RdSvaHo26",
        "outputId": "70fc50fd-8131-4106-ca36-ae8cc7c95182"
      },
      "execution_count": 14,
      "outputs": [
        {
          "output_type": "execute_result",
          "data": {
            "text/plain": [
              "0.6973"
            ]
          },
          "metadata": {},
          "execution_count": 14
        }
      ]
    }
  ]
}