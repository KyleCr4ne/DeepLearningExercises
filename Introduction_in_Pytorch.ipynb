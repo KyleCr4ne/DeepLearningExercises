{
  "nbformat": 4,
  "nbformat_minor": 0,
  "metadata": {
    "colab": {
      "provenance": [],
      "gpuType": "T4"
    },
    "kernelspec": {
      "name": "python3",
      "display_name": "Python 3"
    },
    "language_info": {
      "name": "python"
    },
    "accelerator": "GPU",
    "widgets": {
      "application/vnd.jupyter.widget-state+json": {
        "7b47c50ad31749dc94c4be9087baff61": {
          "model_module": "@jupyter-widgets/controls",
          "model_name": "HBoxModel",
          "model_module_version": "1.5.0",
          "state": {
            "_dom_classes": [],
            "_model_module": "@jupyter-widgets/controls",
            "_model_module_version": "1.5.0",
            "_model_name": "HBoxModel",
            "_view_count": null,
            "_view_module": "@jupyter-widgets/controls",
            "_view_module_version": "1.5.0",
            "_view_name": "HBoxView",
            "box_style": "",
            "children": [
              "IPY_MODEL_1c57f98638e44f658215a19d60e9ae11",
              "IPY_MODEL_4fdd93f6b9424c13b97587c1e5307454",
              "IPY_MODEL_c60537352d6a471da403dcbe8bc02915"
            ],
            "layout": "IPY_MODEL_becf1928b85b4edca38fc826a59fbf2d"
          }
        },
        "1c57f98638e44f658215a19d60e9ae11": {
          "model_module": "@jupyter-widgets/controls",
          "model_name": "HTMLModel",
          "model_module_version": "1.5.0",
          "state": {
            "_dom_classes": [],
            "_model_module": "@jupyter-widgets/controls",
            "_model_module_version": "1.5.0",
            "_model_name": "HTMLModel",
            "_view_count": null,
            "_view_module": "@jupyter-widgets/controls",
            "_view_module_version": "1.5.0",
            "_view_name": "HTMLView",
            "description": "",
            "description_tooltip": null,
            "layout": "IPY_MODEL_02f90b76874b48a5beb7b26442ab036a",
            "placeholder": "​",
            "style": "IPY_MODEL_c2d267f1e5344787b686cd831d6755ee",
            "value": "100%"
          }
        },
        "4fdd93f6b9424c13b97587c1e5307454": {
          "model_module": "@jupyter-widgets/controls",
          "model_name": "FloatProgressModel",
          "model_module_version": "1.5.0",
          "state": {
            "_dom_classes": [],
            "_model_module": "@jupyter-widgets/controls",
            "_model_module_version": "1.5.0",
            "_model_name": "FloatProgressModel",
            "_view_count": null,
            "_view_module": "@jupyter-widgets/controls",
            "_view_module_version": "1.5.0",
            "_view_name": "ProgressView",
            "bar_style": "success",
            "description": "",
            "description_tooltip": null,
            "layout": "IPY_MODEL_7668abfc392a464281b265b2d0223d92",
            "max": 100,
            "min": 0,
            "orientation": "horizontal",
            "style": "IPY_MODEL_6e76fae73d4642728ad7fe8396f5dcda",
            "value": 100
          }
        },
        "c60537352d6a471da403dcbe8bc02915": {
          "model_module": "@jupyter-widgets/controls",
          "model_name": "HTMLModel",
          "model_module_version": "1.5.0",
          "state": {
            "_dom_classes": [],
            "_model_module": "@jupyter-widgets/controls",
            "_model_module_version": "1.5.0",
            "_model_name": "HTMLModel",
            "_view_count": null,
            "_view_module": "@jupyter-widgets/controls",
            "_view_module_version": "1.5.0",
            "_view_name": "HTMLView",
            "description": "",
            "description_tooltip": null,
            "layout": "IPY_MODEL_d58c251dd81c4679b71a34523bccc0c9",
            "placeholder": "​",
            "style": "IPY_MODEL_c11d2d4960d04a17ac0b115f2df420a2",
            "value": " 100/100 [00:00&lt;00:00, 475.79it/s]"
          }
        },
        "becf1928b85b4edca38fc826a59fbf2d": {
          "model_module": "@jupyter-widgets/base",
          "model_name": "LayoutModel",
          "model_module_version": "1.2.0",
          "state": {
            "_model_module": "@jupyter-widgets/base",
            "_model_module_version": "1.2.0",
            "_model_name": "LayoutModel",
            "_view_count": null,
            "_view_module": "@jupyter-widgets/base",
            "_view_module_version": "1.2.0",
            "_view_name": "LayoutView",
            "align_content": null,
            "align_items": null,
            "align_self": null,
            "border": null,
            "bottom": null,
            "display": null,
            "flex": null,
            "flex_flow": null,
            "grid_area": null,
            "grid_auto_columns": null,
            "grid_auto_flow": null,
            "grid_auto_rows": null,
            "grid_column": null,
            "grid_gap": null,
            "grid_row": null,
            "grid_template_areas": null,
            "grid_template_columns": null,
            "grid_template_rows": null,
            "height": null,
            "justify_content": null,
            "justify_items": null,
            "left": null,
            "margin": null,
            "max_height": null,
            "max_width": null,
            "min_height": null,
            "min_width": null,
            "object_fit": null,
            "object_position": null,
            "order": null,
            "overflow": null,
            "overflow_x": null,
            "overflow_y": null,
            "padding": null,
            "right": null,
            "top": null,
            "visibility": null,
            "width": null
          }
        },
        "02f90b76874b48a5beb7b26442ab036a": {
          "model_module": "@jupyter-widgets/base",
          "model_name": "LayoutModel",
          "model_module_version": "1.2.0",
          "state": {
            "_model_module": "@jupyter-widgets/base",
            "_model_module_version": "1.2.0",
            "_model_name": "LayoutModel",
            "_view_count": null,
            "_view_module": "@jupyter-widgets/base",
            "_view_module_version": "1.2.0",
            "_view_name": "LayoutView",
            "align_content": null,
            "align_items": null,
            "align_self": null,
            "border": null,
            "bottom": null,
            "display": null,
            "flex": null,
            "flex_flow": null,
            "grid_area": null,
            "grid_auto_columns": null,
            "grid_auto_flow": null,
            "grid_auto_rows": null,
            "grid_column": null,
            "grid_gap": null,
            "grid_row": null,
            "grid_template_areas": null,
            "grid_template_columns": null,
            "grid_template_rows": null,
            "height": null,
            "justify_content": null,
            "justify_items": null,
            "left": null,
            "margin": null,
            "max_height": null,
            "max_width": null,
            "min_height": null,
            "min_width": null,
            "object_fit": null,
            "object_position": null,
            "order": null,
            "overflow": null,
            "overflow_x": null,
            "overflow_y": null,
            "padding": null,
            "right": null,
            "top": null,
            "visibility": null,
            "width": null
          }
        },
        "c2d267f1e5344787b686cd831d6755ee": {
          "model_module": "@jupyter-widgets/controls",
          "model_name": "DescriptionStyleModel",
          "model_module_version": "1.5.0",
          "state": {
            "_model_module": "@jupyter-widgets/controls",
            "_model_module_version": "1.5.0",
            "_model_name": "DescriptionStyleModel",
            "_view_count": null,
            "_view_module": "@jupyter-widgets/base",
            "_view_module_version": "1.2.0",
            "_view_name": "StyleView",
            "description_width": ""
          }
        },
        "7668abfc392a464281b265b2d0223d92": {
          "model_module": "@jupyter-widgets/base",
          "model_name": "LayoutModel",
          "model_module_version": "1.2.0",
          "state": {
            "_model_module": "@jupyter-widgets/base",
            "_model_module_version": "1.2.0",
            "_model_name": "LayoutModel",
            "_view_count": null,
            "_view_module": "@jupyter-widgets/base",
            "_view_module_version": "1.2.0",
            "_view_name": "LayoutView",
            "align_content": null,
            "align_items": null,
            "align_self": null,
            "border": null,
            "bottom": null,
            "display": null,
            "flex": null,
            "flex_flow": null,
            "grid_area": null,
            "grid_auto_columns": null,
            "grid_auto_flow": null,
            "grid_auto_rows": null,
            "grid_column": null,
            "grid_gap": null,
            "grid_row": null,
            "grid_template_areas": null,
            "grid_template_columns": null,
            "grid_template_rows": null,
            "height": null,
            "justify_content": null,
            "justify_items": null,
            "left": null,
            "margin": null,
            "max_height": null,
            "max_width": null,
            "min_height": null,
            "min_width": null,
            "object_fit": null,
            "object_position": null,
            "order": null,
            "overflow": null,
            "overflow_x": null,
            "overflow_y": null,
            "padding": null,
            "right": null,
            "top": null,
            "visibility": null,
            "width": null
          }
        },
        "6e76fae73d4642728ad7fe8396f5dcda": {
          "model_module": "@jupyter-widgets/controls",
          "model_name": "ProgressStyleModel",
          "model_module_version": "1.5.0",
          "state": {
            "_model_module": "@jupyter-widgets/controls",
            "_model_module_version": "1.5.0",
            "_model_name": "ProgressStyleModel",
            "_view_count": null,
            "_view_module": "@jupyter-widgets/base",
            "_view_module_version": "1.2.0",
            "_view_name": "StyleView",
            "bar_color": null,
            "description_width": ""
          }
        },
        "d58c251dd81c4679b71a34523bccc0c9": {
          "model_module": "@jupyter-widgets/base",
          "model_name": "LayoutModel",
          "model_module_version": "1.2.0",
          "state": {
            "_model_module": "@jupyter-widgets/base",
            "_model_module_version": "1.2.0",
            "_model_name": "LayoutModel",
            "_view_count": null,
            "_view_module": "@jupyter-widgets/base",
            "_view_module_version": "1.2.0",
            "_view_name": "LayoutView",
            "align_content": null,
            "align_items": null,
            "align_self": null,
            "border": null,
            "bottom": null,
            "display": null,
            "flex": null,
            "flex_flow": null,
            "grid_area": null,
            "grid_auto_columns": null,
            "grid_auto_flow": null,
            "grid_auto_rows": null,
            "grid_column": null,
            "grid_gap": null,
            "grid_row": null,
            "grid_template_areas": null,
            "grid_template_columns": null,
            "grid_template_rows": null,
            "height": null,
            "justify_content": null,
            "justify_items": null,
            "left": null,
            "margin": null,
            "max_height": null,
            "max_width": null,
            "min_height": null,
            "min_width": null,
            "object_fit": null,
            "object_position": null,
            "order": null,
            "overflow": null,
            "overflow_x": null,
            "overflow_y": null,
            "padding": null,
            "right": null,
            "top": null,
            "visibility": null,
            "width": null
          }
        },
        "c11d2d4960d04a17ac0b115f2df420a2": {
          "model_module": "@jupyter-widgets/controls",
          "model_name": "DescriptionStyleModel",
          "model_module_version": "1.5.0",
          "state": {
            "_model_module": "@jupyter-widgets/controls",
            "_model_module_version": "1.5.0",
            "_model_name": "DescriptionStyleModel",
            "_view_count": null,
            "_view_module": "@jupyter-widgets/base",
            "_view_module_version": "1.2.0",
            "_view_name": "StyleView",
            "description_width": ""
          }
        }
      }
    }
  },
  "cells": [
    {
      "cell_type": "code",
      "execution_count": 1,
      "metadata": {
        "id": "VwN_1Qe1yt-V"
      },
      "outputs": [],
      "source": [
        "import torch\n",
        "import torch.nn as nn\n",
        "\n",
        "\n",
        "device = 'cuda' if torch.cuda.is_available() else 'cpu'"
      ]
    },
    {
      "cell_type": "markdown",
      "source": [
        "Создадим простую трехслойную нейросеть"
      ],
      "metadata": {
        "id": "1xWv5XRm0sJs"
      }
    },
    {
      "cell_type": "code",
      "source": [
        "class NeuralNet(nn.Module):\n",
        "  def __init__(self, dim=1):\n",
        "    super(NeuralNet, self).__init__()\n",
        "\n",
        "    self.fc1 = nn.Linear(dim, 5)\n",
        "    self.tanh1 = nn.Tanh()\n",
        "\n",
        "    self.fc2 = nn.Linear(5, 5)\n",
        "    self.tanh2 = nn.Tanh()\n",
        "\n",
        "    self.fc3 = nn.Linear(5, 1)\n",
        "    self.tanh3 = nn.Tanh()\n",
        "\n",
        "  def forward(self, x):\n",
        "    x = self.fc1(x)\n",
        "    x = self.tanh1(x)\n",
        "\n",
        "    x = self.fc2(x)\n",
        "    x = self.tanh2(x)\n",
        "\n",
        "    x = self.fc3(x)\n",
        "    x = self.tanh3(x)\n",
        "    return x"
      ],
      "metadata": {
        "id": "DK2vayJj0VOV"
      },
      "execution_count": 4,
      "outputs": []
    },
    {
      "cell_type": "code",
      "source": [
        "SimpleNet = NeuralNet(1)\n",
        "SimpleNet = SimpleNet.to(device)"
      ],
      "metadata": {
        "id": "mVuNTfyO1cGA"
      },
      "execution_count": 6,
      "outputs": []
    },
    {
      "cell_type": "markdown",
      "source": [
        "Функция для обучения модели"
      ],
      "metadata": {
        "id": "8lkH7XXm1tAF"
      }
    },
    {
      "cell_type": "code",
      "source": [
        "import tqdm\n",
        "from tqdm.auto import tqdm\n",
        "def train(model, X, y, criterion, optimizer, num_epoch):\n",
        "  for epoch in tqdm(range(num_epoch)):\n",
        "    y_pred = model(X.to(device))\n",
        "\n",
        "    loss = criterion(y_pred, y.to(device))\n",
        "    if (epoch + 1) % 10 == 0:\n",
        "      print(f'Epoch {epoch + 1} : loss {loss}')\n",
        "\n",
        "    optimizer.zero_grad()\n",
        "    loss.backward()\n",
        "    optimizer.step()\n",
        "  return model"
      ],
      "metadata": {
        "id": "3htb2A2Z1m1t"
      },
      "execution_count": 12,
      "outputs": []
    },
    {
      "cell_type": "code",
      "source": [
        "X = torch.linspace(-6, 6, 1000)\n",
        "Y = torch.cos(X)"
      ],
      "metadata": {
        "id": "yUWpYoL_3kwO"
      },
      "execution_count": 21,
      "outputs": []
    },
    {
      "cell_type": "code",
      "source": [
        "from sklearn.model_selection import train_test_split\n",
        "\n",
        "X_train, X_test, y_train, y_test = train_test_split(X, Y, test_size = 0.3, random_state=42)"
      ],
      "metadata": {
        "id": "FUk4vX_34Dk-"
      },
      "execution_count": 23,
      "outputs": []
    },
    {
      "cell_type": "code",
      "source": [
        "X_train = X_train.view(-1, 1).to(device)\n",
        "X_test = X_test.view(-1, 1).to(device)\n",
        "y_train = y_train.view(-1, 1).to(device)\n",
        "y_test = y_test.view(-1, 1).to(device)"
      ],
      "metadata": {
        "id": "qi-feFb_4gFZ"
      },
      "execution_count": 27,
      "outputs": []
    },
    {
      "cell_type": "code",
      "source": [
        "criterion = nn.MSELoss()\n",
        "optimizer = torch.optim.Adam(SimpleNet.parameters(), lr=1e-2)\n",
        "\n",
        "SimpleNet = train(SimpleNet, X_train, y_train, criterion, optimizer, 100)"
      ],
      "metadata": {
        "colab": {
          "base_uri": "https://localhost:8080/",
          "height": 219,
          "referenced_widgets": [
            "7b47c50ad31749dc94c4be9087baff61",
            "1c57f98638e44f658215a19d60e9ae11",
            "4fdd93f6b9424c13b97587c1e5307454",
            "c60537352d6a471da403dcbe8bc02915",
            "becf1928b85b4edca38fc826a59fbf2d",
            "02f90b76874b48a5beb7b26442ab036a",
            "c2d267f1e5344787b686cd831d6755ee",
            "7668abfc392a464281b265b2d0223d92",
            "6e76fae73d4642728ad7fe8396f5dcda",
            "d58c251dd81c4679b71a34523bccc0c9",
            "c11d2d4960d04a17ac0b115f2df420a2"
          ]
        },
        "id": "JJv7ElPs2j58",
        "outputId": "cd0e32f0-9214-4d81-cb2f-5b8297f2bfe4"
      },
      "execution_count": 28,
      "outputs": [
        {
          "output_type": "display_data",
          "data": {
            "text/plain": [
              "  0%|          | 0/100 [00:00<?, ?it/s]"
            ],
            "application/vnd.jupyter.widget-view+json": {
              "version_major": 2,
              "version_minor": 0,
              "model_id": "7b47c50ad31749dc94c4be9087baff61"
            }
          },
          "metadata": {}
        },
        {
          "output_type": "stream",
          "name": "stdout",
          "text": [
            "Epoch 10 : loss 0.005002863239496946\n",
            "Epoch 20 : loss 0.003847151529043913\n",
            "Epoch 30 : loss 0.0034058818127959967\n",
            "Epoch 40 : loss 0.003303784877061844\n",
            "Epoch 50 : loss 0.003263593651354313\n",
            "Epoch 60 : loss 0.0032222066074609756\n",
            "Epoch 70 : loss 0.0031811492517590523\n",
            "Epoch 80 : loss 0.003135422244668007\n",
            "Epoch 90 : loss 0.003090265206992626\n",
            "Epoch 100 : loss 0.003044245531782508\n"
          ]
        }
      ]
    },
    {
      "cell_type": "code",
      "source": [
        "import matplotlib.pyplot as plt\n",
        "import seaborn as sns\n",
        "y_pred = SimpleNet(X_test.view(-1, 1))\n",
        "y_pred = y_pred.cpu().detach().numpy()\n",
        "\n",
        "plt.figure(figsize=(20, 7))\n",
        "plt.scatter(X_test.cpu(), y_test.cpu(), label='True cos')\n",
        "plt.scatter(X_test.cpu(), y_pred, label='Prediction cos')\n",
        "plt.legend()\n",
        "plt.show()"
      ],
      "metadata": {
        "colab": {
          "base_uri": "https://localhost:8080/",
          "height": 432
        },
        "id": "Ecazz6cR264b",
        "outputId": "87de300a-d692-4dd4-f922-cbebafddd329"
      },
      "execution_count": 31,
      "outputs": [
        {
          "output_type": "display_data",
          "data": {
            "text/plain": [
              "<Figure size 2000x700 with 1 Axes>"
            ],
            "image/png": "[encoded data removed]"
          },
          "metadata": {}
        }
      ]
    }
  ]
}