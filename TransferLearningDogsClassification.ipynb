{
  "nbformat": 4,
  "nbformat_minor": 0,
  "metadata": {
    "colab": {
      "provenance": [],
      "gpuType": "T4"
    },
    "kernelspec": {
      "name": "python3",
      "display_name": "Python 3"
    },
    "language_info": {
      "name": "python"
    },
    "accelerator": "GPU",
    "widgets": {
      "application/vnd.jupyter.widget-state+json": {
        "678b4b092f1f4f13aa580c2e6afcfdd5": {
          "model_module": "@jupyter-widgets/controls",
          "model_name": "HBoxModel",
          "model_module_version": "1.5.0",
          "state": {
            "_dom_classes": [],
            "_model_module": "@jupyter-widgets/controls",
            "_model_module_version": "1.5.0",
            "_model_name": "HBoxModel",
            "_view_count": null,
            "_view_module": "@jupyter-widgets/controls",
            "_view_module_version": "1.5.0",
            "_view_name": "HBoxView",
            "box_style": "",
            "children": [
              "IPY_MODEL_ce11412ae1104e7c8cb3207300d5b031",
              "IPY_MODEL_9c20a152e32b4f39a66ff5e21f4c7e96",
              "IPY_MODEL_21a2128cd926493490c4736a60f7e9fe"
            ],
            "layout": "IPY_MODEL_f648bc203c0b44b0992277a7c2d47bcc"
          }
        },
        "ce11412ae1104e7c8cb3207300d5b031": {
          "model_module": "@jupyter-widgets/controls",
          "model_name": "HTMLModel",
          "model_module_version": "1.5.0",
          "state": {
            "_dom_classes": [],
            "_model_module": "@jupyter-widgets/controls",
            "_model_module_version": "1.5.0",
            "_model_name": "HTMLModel",
            "_view_count": null,
            "_view_module": "@jupyter-widgets/controls",
            "_view_module_version": "1.5.0",
            "_view_name": "HTMLView",
            "description": "",
            "description_tooltip": null,
            "layout": "IPY_MODEL_cdff8bdcd24047b296c536e7067a2217",
            "placeholder": "​",
            "style": "IPY_MODEL_ba21e7ed9df345a1bea024b1d53241b5",
            "value": "100%"
          }
        },
        "9c20a152e32b4f39a66ff5e21f4c7e96": {
          "model_module": "@jupyter-widgets/controls",
          "model_name": "FloatProgressModel",
          "model_module_version": "1.5.0",
          "state": {
            "_dom_classes": [],
            "_model_module": "@jupyter-widgets/controls",
            "_model_module_version": "1.5.0",
            "_model_name": "FloatProgressModel",
            "_view_count": null,
            "_view_module": "@jupyter-widgets/controls",
            "_view_module_version": "1.5.0",
            "_view_name": "ProgressView",
            "bar_style": "success",
            "description": "",
            "description_tooltip": null,
            "layout": "IPY_MODEL_82d77cfed8944280bb67926755750a4a",
            "max": 3,
            "min": 0,
            "orientation": "horizontal",
            "style": "IPY_MODEL_21e7fba05dbb4908a5dd05c3422cdbcb",
            "value": 3
          }
        },
        "21a2128cd926493490c4736a60f7e9fe": {
          "model_module": "@jupyter-widgets/controls",
          "model_name": "HTMLModel",
          "model_module_version": "1.5.0",
          "state": {
            "_dom_classes": [],
            "_model_module": "@jupyter-widgets/controls",
            "_model_module_version": "1.5.0",
            "_model_name": "HTMLModel",
            "_view_count": null,
            "_view_module": "@jupyter-widgets/controls",
            "_view_module_version": "1.5.0",
            "_view_name": "HTMLView",
            "description": "",
            "description_tooltip": null,
            "layout": "IPY_MODEL_7e947965e0ab4c8ca6dbf7c27f799b8f",
            "placeholder": "​",
            "style": "IPY_MODEL_a443ff02bd70449692ebfc57217b5f35",
            "value": " 3/3 [05:22&lt;00:00, 107.00s/it]"
          }
        },
        "f648bc203c0b44b0992277a7c2d47bcc": {
          "model_module": "@jupyter-widgets/base",
          "model_name": "LayoutModel",
          "model_module_version": "1.2.0",
          "state": {
            "_model_module": "@jupyter-widgets/base",
            "_model_module_version": "1.2.0",
            "_model_name": "LayoutModel",
            "_view_count": null,
            "_view_module": "@jupyter-widgets/base",
            "_view_module_version": "1.2.0",
            "_view_name": "LayoutView",
            "align_content": null,
            "align_items": null,
            "align_self": null,
            "border": null,
            "bottom": null,
            "display": null,
            "flex": null,
            "flex_flow": null,
            "grid_area": null,
            "grid_auto_columns": null,
            "grid_auto_flow": null,
            "grid_auto_rows": null,
            "grid_column": null,
            "grid_gap": null,
            "grid_row": null,
            "grid_template_areas": null,
            "grid_template_columns": null,
            "grid_template_rows": null,
            "height": null,
            "justify_content": null,
            "justify_items": null,
            "left": null,
            "margin": null,
            "max_height": null,
            "max_width": null,
            "min_height": null,
            "min_width": null,
            "object_fit": null,
            "object_position": null,
            "order": null,
            "overflow": null,
            "overflow_x": null,
            "overflow_y": null,
            "padding": null,
            "right": null,
            "top": null,
            "visibility": null,
            "width": null
          }
        },
        "cdff8bdcd24047b296c536e7067a2217": {
          "model_module": "@jupyter-widgets/base",
          "model_name": "LayoutModel",
          "model_module_version": "1.2.0",
          "state": {
            "_model_module": "@jupyter-widgets/base",
            "_model_module_version": "1.2.0",
            "_model_name": "LayoutModel",
            "_view_count": null,
            "_view_module": "@jupyter-widgets/base",
            "_view_module_version": "1.2.0",
            "_view_name": "LayoutView",
            "align_content": null,
            "align_items": null,
            "align_self": null,
            "border": null,
            "bottom": null,
            "display": null,
            "flex": null,
            "flex_flow": null,
            "grid_area": null,
            "grid_auto_columns": null,
            "grid_auto_flow": null,
            "grid_auto_rows": null,
            "grid_column": null,
            "grid_gap": null,
            "grid_row": null,
            "grid_template_areas": null,
            "grid_template_columns": null,
            "grid_template_rows": null,
            "height": null,
            "justify_content": null,
            "justify_items": null,
            "left": null,
            "margin": null,
            "max_height": null,
            "max_width": null,
            "min_height": null,
            "min_width": null,
            "object_fit": null,
            "object_position": null,
            "order": null,
            "overflow": null,
            "overflow_x": null,
            "overflow_y": null,
            "padding": null,
            "right": null,
            "top": null,
            "visibility": null,
            "width": null
          }
        },
        "ba21e7ed9df345a1bea024b1d53241b5": {
          "model_module": "@jupyter-widgets/controls",
          "model_name": "DescriptionStyleModel",
          "model_module_version": "1.5.0",
          "state": {
            "_model_module": "@jupyter-widgets/controls",
            "_model_module_version": "1.5.0",
            "_model_name": "DescriptionStyleModel",
            "_view_count": null,
            "_view_module": "@jupyter-widgets/base",
            "_view_module_version": "1.2.0",
            "_view_name": "StyleView",
            "description_width": ""
          }
        },
        "82d77cfed8944280bb67926755750a4a": {
          "model_module": "@jupyter-widgets/base",
          "model_name": "LayoutModel",
          "model_module_version": "1.2.0",
          "state": {
            "_model_module": "@jupyter-widgets/base",
            "_model_module_version": "1.2.0",
            "_model_name": "LayoutModel",
            "_view_count": null,
            "_view_module": "@jupyter-widgets/base",
            "_view_module_version": "1.2.0",
            "_view_name": "LayoutView",
            "align_content": null,
            "align_items": null,
            "align_self": null,
            "border": null,
            "bottom": null,
            "display": null,
            "flex": null,
            "flex_flow": null,
            "grid_area": null,
            "grid_auto_columns": null,
            "grid_auto_flow": null,
            "grid_auto_rows": null,
            "grid_column": null,
            "grid_gap": null,
            "grid_row": null,
            "grid_template_areas": null,
            "grid_template_columns": null,
            "grid_template_rows": null,
            "height": null,
            "justify_content": null,
            "justify_items": null,
            "left": null,
            "margin": null,
            "max_height": null,
            "max_width": null,
            "min_height": null,
            "min_width": null,
            "object_fit": null,
            "object_position": null,
            "order": null,
            "overflow": null,
            "overflow_x": null,
            "overflow_y": null,
            "padding": null,
            "right": null,
            "top": null,
            "visibility": null,
            "width": null
          }
        },
        "21e7fba05dbb4908a5dd05c3422cdbcb": {
          "model_module": "@jupyter-widgets/controls",
          "model_name": "ProgressStyleModel",
          "model_module_version": "1.5.0",
          "state": {
            "_model_module": "@jupyter-widgets/controls",
            "_model_module_version": "1.5.0",
            "_model_name": "ProgressStyleModel",
            "_view_count": null,
            "_view_module": "@jupyter-widgets/base",
            "_view_module_version": "1.2.0",
            "_view_name": "StyleView",
            "bar_color": null,
            "description_width": ""
          }
        },
        "7e947965e0ab4c8ca6dbf7c27f799b8f": {
          "model_module": "@jupyter-widgets/base",
          "model_name": "LayoutModel",
          "model_module_version": "1.2.0",
          "state": {
            "_model_module": "@jupyter-widgets/base",
            "_model_module_version": "1.2.0",
            "_model_name": "LayoutModel",
            "_view_count": null,
            "_view_module": "@jupyter-widgets/base",
            "_view_module_version": "1.2.0",
            "_view_name": "LayoutView",
            "align_content": null,
            "align_items": null,
            "align_self": null,
            "border": null,
            "bottom": null,
            "display": null,
            "flex": null,
            "flex_flow": null,
            "grid_area": null,
            "grid_auto_columns": null,
            "grid_auto_flow": null,
            "grid_auto_rows": null,
            "grid_column": null,
            "grid_gap": null,
            "grid_row": null,
            "grid_template_areas": null,
            "grid_template_columns": null,
            "grid_template_rows": null,
            "height": null,
            "justify_content": null,
            "justify_items": null,
            "left": null,
            "margin": null,
            "max_height": null,
            "max_width": null,
            "min_height": null,
            "min_width": null,
            "object_fit": null,
            "object_position": null,
            "order": null,
            "overflow": null,
            "overflow_x": null,
            "overflow_y": null,
            "padding": null,
            "right": null,
            "top": null,
            "visibility": null,
            "width": null
          }
        },
        "a443ff02bd70449692ebfc57217b5f35": {
          "model_module": "@jupyter-widgets/controls",
          "model_name": "DescriptionStyleModel",
          "model_module_version": "1.5.0",
          "state": {
            "_model_module": "@jupyter-widgets/controls",
            "_model_module_version": "1.5.0",
            "_model_name": "DescriptionStyleModel",
            "_view_count": null,
            "_view_module": "@jupyter-widgets/base",
            "_view_module_version": "1.2.0",
            "_view_name": "StyleView",
            "description_width": ""
          }
        }
      }
    }
  },
  "cells": [
    {
      "cell_type": "code",
      "execution_count": 1,
      "metadata": {
        "id": "19_2sq-tTAer"
      },
      "outputs": [],
      "source": [
        "import numpy as np\n",
        "from tqdm.notebook import tqdm\n",
        "import matplotlib.pyplot as plt\n",
        "%matplotlib inline\n",
        "\n",
        "import torch\n",
        "import torch.nn as nn\n",
        "from torchvision import datasets, transforms\n",
        "from torch.nn.modules.batchnorm import BatchNorm1d\n",
        "import torch.nn.functional as F"
      ]
    },
    {
      "cell_type": "code",
      "source": [
        "! pip install wldhx.yadisk-direct\n",
        "! curl -L $(yadisk-direct https://disk.yandex.com/d/eS6LL7bLmrlO7w) -o dogs.zip"
      ],
      "metadata": {
        "colab": {
          "base_uri": "https://localhost:8080/"
        },
        "id": "pR8AiWQuTI84",
        "outputId": "a2b65998-07a7-4ea8-c2f8-0aa9d175b366"
      },
      "execution_count": 2,
      "outputs": [
        {
          "output_type": "stream",
          "name": "stdout",
          "text": [
            "Collecting wldhx.yadisk-direct\n",
            "  Downloading wldhx.yadisk_direct-0.0.6-py3-none-any.whl (4.5 kB)\n",
            "Requirement already satisfied: requests in /usr/local/lib/python3.10/dist-packages (from wldhx.yadisk-direct) (2.31.0)\n",
            "Requirement already satisfied: charset-normalizer<4,>=2 in /usr/local/lib/python3.10/dist-packages (from requests->wldhx.yadisk-direct) (3.3.2)\n",
            "Requirement already satisfied: idna<4,>=2.5 in /usr/local/lib/python3.10/dist-packages (from requests->wldhx.yadisk-direct) (3.7)\n",
            "Requirement already satisfied: urllib3<3,>=1.21.1 in /usr/local/lib/python3.10/dist-packages (from requests->wldhx.yadisk-direct) (2.0.7)\n",
            "Requirement already satisfied: certifi>=2017.4.17 in /usr/local/lib/python3.10/dist-packages (from requests->wldhx.yadisk-direct) (2024.2.2)\n",
            "Installing collected packages: wldhx.yadisk-direct\n",
            "Successfully installed wldhx.yadisk-direct-0.0.6\n",
            "  % Total    % Received % Xferd  Average Speed   Time    Time     Time  Current\n",
            "                                 Dload  Upload   Total   Spent    Left  Speed\n",
            "  0     0    0     0    0     0      0      0 --:--:--  0:00:01 --:--:--     0\n",
            "100  218M  100  218M    0     0  13.3M      0  0:00:16  0:00:16 --:--:-- 16.8M\n"
          ]
        }
      ]
    },
    {
      "cell_type": "code",
      "source": [
        "! unzip -qq dogs.zip"
      ],
      "metadata": {
        "id": "SuUjoXInTNaT"
      },
      "execution_count": 3,
      "outputs": []
    },
    {
      "cell_type": "code",
      "source": [
        "resnet_transforms = transforms.Compose([\n",
        "        transforms.Resize(256), # размер каждой картинки будет приведен к 256*256\n",
        "        transforms.CenterCrop(224), # у картинки будет вырезан центральный кусок размера 224*224\n",
        "        transforms.RandomPerspective(distortion_scale=0.6, p=1.0),\n",
        "        transforms.ToTensor(), # картинка из питоновского массива переводится в формат torch.Tensor\n",
        "        transforms.Normalize([0.485, 0.456, 0.406], [0.229, 0.224, 0.225]) # значения пикселей картинки нормализуются\n",
        "    ])"
      ],
      "metadata": {
        "id": "MI9J8Km8TUqE"
      },
      "execution_count": 4,
      "outputs": []
    },
    {
      "cell_type": "code",
      "source": [
        "train_data = datasets.ImageFolder('./dogs/train', transform=resnet_transforms)\n",
        "val_data = datasets.ImageFolder('./dogs/valid', transform=resnet_transforms)\n",
        "test_data = datasets.ImageFolder('./dogs/test', transform=resnet_transforms)"
      ],
      "metadata": {
        "id": "hZkiJPChTXVl"
      },
      "execution_count": 5,
      "outputs": []
    },
    {
      "cell_type": "code",
      "source": [
        "train_loader = torch.utils.data.DataLoader(train_data, batch_size=64, shuffle=True)\n",
        "val_loader = torch.utils.data.DataLoader(val_data, batch_size=64, shuffle=False)\n",
        "test_loader = torch.utils.data.DataLoader(test_data, batch_size=64, shuffle=False)"
      ],
      "metadata": {
        "id": "LrSBMl2aTYzd"
      },
      "execution_count": 6,
      "outputs": []
    },
    {
      "cell_type": "code",
      "source": [
        "import torchvision\n",
        "from torchvision import datasets, models, transforms\n",
        "\n",
        "model = models.resnet18(pretrained=True)"
      ],
      "metadata": {
        "id": "JzHj2ZhETaOu"
      },
      "execution_count": 8,
      "outputs": []
    },
    {
      "cell_type": "code",
      "source": [
        "# Последний слой преобученной нейросети ResNET-18:\n",
        "model.fc"
      ],
      "metadata": {
        "colab": {
          "base_uri": "https://localhost:8080/"
        },
        "id": "pN4qRoUxTnaI",
        "outputId": "237272f0-945d-4d88-8b97-f8db07c08bd7"
      },
      "execution_count": 9,
      "outputs": [
        {
          "output_type": "execute_result",
          "data": {
            "text/plain": [
              "Linear(in_features=512, out_features=1000, bias=True)"
            ]
          },
          "metadata": {},
          "execution_count": 9
        }
      ]
    },
    {
      "cell_type": "code",
      "source": [
        "model.fc = nn.Linear(512, 70)\n",
        "model.fc"
      ],
      "metadata": {
        "colab": {
          "base_uri": "https://localhost:8080/"
        },
        "id": "DONXj3etTvcH",
        "outputId": "82bd6f4e-6921-4457-f00e-ba27829f9f1f"
      },
      "execution_count": 11,
      "outputs": [
        {
          "output_type": "execute_result",
          "data": {
            "text/plain": [
              "Linear(in_features=512, out_features=70, bias=True)"
            ]
          },
          "metadata": {},
          "execution_count": 11
        }
      ]
    },
    {
      "cell_type": "code",
      "source": [
        "# Заморозка сверточных слоев преобученной нейросети ResNET-18:\n",
        "for i, layer in enumerate(model.children()):\n",
        "  if i < 9:\n",
        "    for param in layer.parameters():\n",
        "      param.requires_grad = False"
      ],
      "metadata": {
        "id": "bn1uba5dT181"
      },
      "execution_count": 15,
      "outputs": []
    },
    {
      "cell_type": "code",
      "source": [
        "device = torch.device(\"cuda\" if torch.cuda.is_available() else \"cpu\")\n",
        "device"
      ],
      "metadata": {
        "colab": {
          "base_uri": "https://localhost:8080/"
        },
        "id": "rDDdf-m6T8cD",
        "outputId": "da3e8fd1-cc1c-4257-96d1-d8dd433ce042"
      },
      "execution_count": 16,
      "outputs": [
        {
          "output_type": "execute_result",
          "data": {
            "text/plain": [
              "device(type='cuda')"
            ]
          },
          "metadata": {},
          "execution_count": 16
        }
      ]
    },
    {
      "cell_type": "code",
      "source": [
        "from sklearn.metrics import accuracy_score\n",
        "\n",
        "\n",
        "def evaluate(model, dataloader, criterion):\n",
        "  y_pred_list = []\n",
        "  y_true_list = []\n",
        "  losses = []\n",
        "  for i, batch in enumerate(dataloader):\n",
        "    X_batch, y_batch = batch\n",
        "\n",
        "    with torch.no_grad():\n",
        "\n",
        "      y_pred = model(X_batch.to(device))\n",
        "\n",
        "      loss = criterion(y_pred, y_batch.to(device))\n",
        "      loss = loss.item()\n",
        "      losses.append(loss)\n",
        "\n",
        "      y_pred = torch.argmax(y_pred, dim=1)\n",
        "\n",
        "    y_pred_list.extend(y_pred.cpu().numpy())\n",
        "    y_true_list.extend(y_batch.numpy())\n",
        "  acc = accuracy_score(y_pred_list, y_true_list)\n",
        "  return acc, np.mean(losses)"
      ],
      "metadata": {
        "id": "3hzLE-VDUVF1"
      },
      "execution_count": 17,
      "outputs": []
    },
    {
      "cell_type": "code",
      "source": [
        "def train(model, criterion, optimizer, n_epoch):\n",
        "  data = {\n",
        "      'acc_train' : [],\n",
        "      'loss_train' : [],\n",
        "      'acc_val' : [],\n",
        "      'loss_val' : []\n",
        "  }\n",
        "  for epoch in tqdm(range(n_epoch)):\n",
        "    for i, batch in enumerate(train_loader):\n",
        "      X_batch, y_batch = batch\n",
        "      y_pred = model(X_batch.to(device))\n",
        "      loss = criterion(y_pred, y_batch.to(device))\n",
        "\n",
        "      optimizer.zero_grad()\n",
        "      loss.backward()\n",
        "      optimizer.step()\n",
        "\n",
        "    acc_train, loss_train = evaluate(model, train_loader, criterion)\n",
        "    acc_val, loss_val = evaluate(model, val_loader, criterion)\n",
        "\n",
        "    data['acc_train'].append(acc_train)\n",
        "    data['loss_train'].append(loss_train)\n",
        "    data['acc_val'].append(acc_val)\n",
        "    data['loss_val'].append(loss_val)\n",
        "  return model, data"
      ],
      "metadata": {
        "id": "GN13qqhdUaer"
      },
      "execution_count": 18,
      "outputs": []
    },
    {
      "cell_type": "code",
      "source": [
        "model.to(device)\n",
        "\n",
        "criterion = nn.CrossEntropyLoss()\n",
        "optimizer = torch.optim.Adam(model.parameters(), lr=1e-3)"
      ],
      "metadata": {
        "id": "Z4OtyiVSUfMD"
      },
      "execution_count": 19,
      "outputs": []
    },
    {
      "cell_type": "code",
      "source": [
        "model, data = train(model, criterion, optimizer, n_epoch=3)"
      ],
      "metadata": {
        "colab": {
          "base_uri": "https://localhost:8080/",
          "height": 49,
          "referenced_widgets": [
            "678b4b092f1f4f13aa580c2e6afcfdd5",
            "ce11412ae1104e7c8cb3207300d5b031",
            "9c20a152e32b4f39a66ff5e21f4c7e96",
            "21a2128cd926493490c4736a60f7e9fe",
            "f648bc203c0b44b0992277a7c2d47bcc",
            "cdff8bdcd24047b296c536e7067a2217",
            "ba21e7ed9df345a1bea024b1d53241b5",
            "82d77cfed8944280bb67926755750a4a",
            "21e7fba05dbb4908a5dd05c3422cdbcb",
            "7e947965e0ab4c8ca6dbf7c27f799b8f",
            "a443ff02bd70449692ebfc57217b5f35"
          ]
        },
        "id": "c-2V488jUs5X",
        "outputId": "cdf7368d-609b-4f54-ebc5-141023830185"
      },
      "execution_count": 21,
      "outputs": [
        {
          "output_type": "display_data",
          "data": {
            "text/plain": [
              "  0%|          | 0/3 [00:00<?, ?it/s]"
            ],
            "application/vnd.jupyter.widget-view+json": {
              "version_major": 2,
              "version_minor": 0,
              "model_id": "678b4b092f1f4f13aa580c2e6afcfdd5"
            }
          },
          "metadata": {}
        }
      ]
    },
    {
      "cell_type": "code",
      "source": [
        "test_accuracy, _ = evaluate(model, test_loader, criterion)\n",
        "test_accuracy"
      ],
      "metadata": {
        "colab": {
          "base_uri": "https://localhost:8080/"
        },
        "id": "P-hSgJUBU2lq",
        "outputId": "85568e64-1c65-49ac-8661-1c91fc7321c6"
      },
      "execution_count": 25,
      "outputs": [
        {
          "output_type": "execute_result",
          "data": {
            "text/plain": [
              "0.63"
            ]
          },
          "metadata": {},
          "execution_count": 25
        }
      ]
    },
    {
      "cell_type": "code",
      "source": [
        "_, axes = plt.subplots(nrows=2, ncols=2, figsize=(10, 10))\n",
        "\n",
        "ox = list(range(3))\n",
        "\n",
        "axes[0][0].plot(ox, data['acc_train'])\n",
        "axes[0][0].title.set_text('acc_train')\n",
        "\n",
        "axes[0][1].plot(ox, data['acc_val'])\n",
        "axes[0][1].title.set_text('acc_val')\n",
        "\n",
        "axes[1][0].plot(ox, data['loss_train'])\n",
        "axes[1][0].title.set_text('loss_train')\n",
        "\n",
        "axes[1][1].plot(ox, data['loss_val'])\n",
        "axes[1][1].title.set_text('loss_val')\n",
        "\n",
        "plt.show()"
      ],
      "metadata": {
        "colab": {
          "base_uri": "https://localhost:8080/",
          "height": 853
        },
        "id": "SMBBCmW6UxDW",
        "outputId": "01f5529e-fe9c-45ad-e4de-2025ddb438c7"
      },
      "execution_count": 24,
      "outputs": [
        {
          "output_type": "display_data",
          "data": {
            "text/plain": [
              "<Figure size 1000x1000 with 4 Axes>"
            ],
            "image/png": "[encoded data removed]"
          },
          "metadata": {}
        }
      ]
    },
    {
      "cell_type": "code",
      "source": [],
      "metadata": {
        "id": "fYY9SpKJU0bf"
      },
      "execution_count": null,
      "outputs": []
    }
  ]
}